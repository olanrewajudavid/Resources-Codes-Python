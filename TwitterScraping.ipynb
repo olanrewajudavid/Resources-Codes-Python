{
  "nbformat": 4,
  "nbformat_minor": 0,
  "metadata": {
    "colab": {
      "provenance": []
    },
    "kernelspec": {
      "name": "python3",
      "display_name": "Python 3"
    },
    "language_info": {
      "name": "python"
    }
  },
  "cells": [
    {
      "cell_type": "code",
      "execution_count": null,
      "metadata": {
        "colab": {
          "base_uri": "https://localhost:8080/"
        },
        "id": "bbKnCo2lzcFe",
        "outputId": "abaee5c8-0052-4185-9ec7-697e5b922ecf"
      },
      "outputs": [
        {
          "output_type": "stream",
          "name": "stdout",
          "text": [
            "Collecting ntscraper\n",
            "  Downloading ntscraper-0.3.13-py3-none-any.whl (11 kB)\n",
            "Requirement already satisfied: requests in /usr/local/lib/python3.10/dist-packages (from ntscraper) (2.31.0)\n",
            "Requirement already satisfied: beautifulsoup4 in /usr/local/lib/python3.10/dist-packages (from ntscraper) (4.12.3)\n",
            "Requirement already satisfied: lxml in /usr/local/lib/python3.10/dist-packages (from ntscraper) (4.9.4)\n",
            "Requirement already satisfied: soupsieve>1.2 in /usr/local/lib/python3.10/dist-packages (from beautifulsoup4->ntscraper) (2.5)\n",
            "Requirement already satisfied: charset-normalizer<4,>=2 in /usr/local/lib/python3.10/dist-packages (from requests->ntscraper) (3.3.2)\n",
            "Requirement already satisfied: idna<4,>=2.5 in /usr/local/lib/python3.10/dist-packages (from requests->ntscraper) (3.7)\n",
            "Requirement already satisfied: urllib3<3,>=1.21.1 in /usr/local/lib/python3.10/dist-packages (from requests->ntscraper) (2.0.7)\n",
            "Requirement already satisfied: certifi>=2017.4.17 in /usr/local/lib/python3.10/dist-packages (from requests->ntscraper) (2024.2.2)\n",
            "Installing collected packages: ntscraper\n",
            "Successfully installed ntscraper-0.3.13\n"
          ]
        }
      ],
      "source": [
        "pip install ntscraper\n"
      ]
    },
    {
      "cell_type": "code",
      "source": [
        "import pandas as pd\n",
        "from ntscraper import Nitter\n",
        "scraper = Nitter(log_level = 1,skip_instance_check = False)\n",
        "\n",
        "def create_tweets_dataset(username,no_of_tweets):\n",
        "  tweets = scraper.get_tweets(username,mode=\"user\",number=no_of_tweets)\n",
        "  data = {\n",
        "    'link':[],\n",
        "    'text':[],\n",
        "    'user':[],\n",
        "    'likes':[],\n",
        "    'quotes':[],\n",
        "    'retweets':[],\n",
        "    'comments':[],\n",
        "  }\n",
        "\n",
        "  for tweet in tweets['tweets']:\n",
        "    data['link'].append(tweet['link'])\n",
        "    data['text'].append(tweet['text'])\n",
        "    data['user'].append(tweet['user']['name'])\n",
        "    data['likes'].append(tweet['stats']['likes'])\n",
        "    data['quotes'].append(tweet['stats']['quotes'])\n",
        "    data['retweets'].append(tweet['stats']['retweets'])\n",
        "    data['comments'].append(tweet['stats']['comments'])\n",
        "\n",
        "  df = pd.DataFrame(data)\n",
        "\n",
        "  df.to_csv(username+\"_tweets_data.csv\")\n",
        "  df.head()\n"
      ],
      "metadata": {
        "colab": {
          "base_uri": "https://localhost:8080/"
        },
        "id": "0OO0YfqJ0Gip",
        "outputId": "707a8414-e9f1-449f-962b-15cfc060332d"
      },
      "execution_count": null,
      "outputs": [
        {
          "output_type": "stream",
          "name": "stderr",
          "text": [
            "Testing instances: 100%|██████████| 77/77 [00:55<00:00,  1.39it/s]\n"
          ]
        }
      ]
    },
    {
      "cell_type": "code",
      "source": [
        "create_tweets_dataset(\"elonmusk\",100)"
      ],
      "metadata": {
        "id": "MrJ311Eh0X5A",
        "colab": {
          "base_uri": "https://localhost:8080/"
        },
        "outputId": "ee63084f-136d-44a4-dd4d-c4519b706966"
      },
      "execution_count": null,
      "outputs": [
        {
          "output_type": "stream",
          "name": "stderr",
          "text": [
            "INFO:root:No instance specified, using random instance https://nitter.esmailelbob.xyz\n",
            "INFO:root:Current stats for elonmusk: 20 tweets, 0 threads...\n",
            "INFO:root:Current stats for elonmusk: 40 tweets, 0 threads...\n",
            "INFO:root:Current stats for elonmusk: 60 tweets, 0 threads...\n",
            "INFO:root:Current stats for elonmusk: 80 tweets, 0 threads...\n",
            "INFO:root:Current stats for elonmusk: 100 tweets, 0 threads...\n"
          ]
        }
      ]
    },
    {
      "cell_type": "code",
      "source": [
        "elon_musk_info = scraper.get_profile_info(username=\"elonmusk\")\n",
        "pprint(elon_musk_info)"
      ],
      "metadata": {
        "colab": {
          "base_uri": "https://localhost:8080/"
        },
        "id": "4z_VdNE00uE3",
        "outputId": "cda601b5-16ea-4002-f046-268f3029b26e"
      },
      "execution_count": null,
      "outputs": [
        {
          "output_type": "stream",
          "name": "stderr",
          "text": [
            "INFO:root:No instance specified, using random instance https://nitter.esmailelbob.xyz\n"
          ]
        },
        {
          "output_type": "stream",
          "name": "stdout",
          "text": [
            "{'bio': '',\n",
            " 'id': '44196397',\n",
            " 'image': 'https://pbs.twimg.com/profile_images/1780044485541699584/p78MCn3B_400x400.jpg',\n",
            " 'joined': '8:12 PM - 2 Jun 2009',\n",
            " 'location': '',\n",
            " 'name': 'Elon Musk',\n",
            " 'stats': {'followers': 183527631,\n",
            "           'following': 597,\n",
            "           'likes': 52436,\n",
            "           'media': 0,\n",
            "           'tweets': 44223},\n",
            " 'username': '@elonmusk',\n",
            " 'website': ''}\n"
          ]
        }
      ]
    }
  ]
}